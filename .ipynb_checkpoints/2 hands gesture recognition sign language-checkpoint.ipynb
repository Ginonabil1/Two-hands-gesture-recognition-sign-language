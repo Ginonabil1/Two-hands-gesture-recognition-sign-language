{
 "cells": [
  {
   "cell_type": "code",
   "execution_count": 24,
   "id": "bdde1038",
   "metadata": {},
   "outputs": [],
   "source": [
    "import cv2\n",
    "import numpy as np\n",
    "import mediapipe as mp\n",
    "import tensorflow as tf\n",
    "from tensorflow.keras.models import load_model"
   ]
  },
  {
   "cell_type": "code",
   "execution_count": 25,
   "id": "2ff134f8",
   "metadata": {},
   "outputs": [],
   "source": [
    "mpHands = mp.solutions.hands # hand recognize algor\n",
    "hands = mpHands.Hands(max_num_hands=2, min_detection_confidence=0.7)\n",
    "\n",
    "mpDraw = mp.solutions.drawing_utils #key points 21"
   ]
  },
  {
   "cell_type": "code",
   "execution_count": 26,
   "id": "29c4ea2f",
   "metadata": {},
   "outputs": [
    {
     "name": "stdout",
     "output_type": "stream",
     "text": [
      "['okay', 'peace', 'thumbs up', 'thumbs down', 'call me', 'stop', 'rock', 'live long', 'fist', 'smile']\n"
     ]
    }
   ],
   "source": [
    "model = load_model('mp_hand_gesture')\n",
    "\n",
    "# Load class names\n",
    "f = open('gesture.names', 'r')\n",
    "classNames = f.read().split('\\n')\n",
    "f.close()\n",
    "print(classNames)"
   ]
  },
  {
   "cell_type": "code",
   "execution_count": 34,
   "id": "aeafffbb",
   "metadata": {},
   "outputs": [
    {
     "name": "stdout",
     "output_type": "stream",
     "text": [
      "1/1 [==============================] - 0s 31ms/step\n",
      "1/1 [==============================] - 0s 47ms/step\n",
      "1/1 [==============================] - 0s 31ms/step\n",
      "1/1 [==============================] - 0s 47ms/step\n",
      "1/1 [==============================] - 0s 47ms/step\n",
      "1/1 [==============================] - 0s 47ms/step\n",
      "1/1 [==============================] - 0s 31ms/step\n",
      "1/1 [==============================] - 0s 47ms/step\n",
      "1/1 [==============================] - 0s 47ms/step\n",
      "1/1 [==============================] - 0s 47ms/step\n",
      "1/1 [==============================] - 0s 47ms/step\n",
      "1/1 [==============================] - 0s 156ms/step\n",
      "1/1 [==============================] - 0s 32ms/step\n",
      "1/1 [==============================] - 0s 40ms/step\n",
      "1/1 [==============================] - 0s 37ms/step\n",
      "1/1 [==============================] - 0s 47ms/step\n",
      "1/1 [==============================] - 0s 47ms/step\n",
      "1/1 [==============================] - 0s 31ms/step\n",
      "1/1 [==============================] - 0s 48ms/step\n",
      "1/1 [==============================] - 0s 31ms/step\n",
      "1/1 [==============================] - 0s 38ms/step\n",
      "1/1 [==============================] - 0s 47ms/step\n",
      "1/1 [==============================] - 0s 31ms/step\n",
      "1/1 [==============================] - 0s 47ms/step\n",
      "1/1 [==============================] - 0s 50ms/step\n",
      "1/1 [==============================] - 0s 47ms/step\n",
      "1/1 [==============================] - 0s 34ms/step\n",
      "1/1 [==============================] - 0s 30ms/step\n",
      "1/1 [==============================] - 0s 31ms/step\n"
     ]
    }
   ],
   "source": [
    "cap = cv2.VideoCapture(0)\n",
    "\n",
    "while True:\n",
    "    # Read each frame from the webcam\n",
    "    _, frame = cap.read()\n",
    "\n",
    "    x, y, c = frame.shape\n",
    "\n",
    "    frame = cv2.flip(frame, 1) #make camera like mirror\n",
    "    framergb = cv2.cvtColor(frame, cv2.COLOR_BGR2RGB) #to convert BGR ro RGB because mediapipe read rgb not bgr\n",
    "\n",
    "    # Get hand landmark prediction\n",
    "    \n",
    "    result = hands.process(framergb) #process takes rgb frame and return class to detect in webcam hand with positions of landmarks\n",
    "    # print(result)  ====>  <class 'mediapipe.python.solution_base.SolutionOutputs'>\n",
    "\n",
    "    \n",
    "    all_landmarks = []\n",
    "\n",
    "    if result.multi_hand_landmarks: #to check if any hand is detected or no\n",
    "        for handslms in result.multi_hand_landmarks:\n",
    "            landmarks = []\n",
    "            for lm in handslms.landmark: #handslms provide a list of 21 keyspoints landamrks\n",
    "                # for each lm points it has x and y\n",
    "                lmx = int(lm.x * x)\n",
    "                lmy = int(lm.y * y)\n",
    "                #These lines scale the normalized coordinates lm.x and lm.y in range 0.0 1.0 to pixel coordinates \n",
    "                landmarks.append([lmx, lmy])\n",
    "\n",
    "            # Drawing landmarks on frames for each hand\n",
    "            mpDraw.draw_landmarks(frame, handslms, mpHands.HAND_CONNECTIONS) #the connection of keypoints\n",
    "            \n",
    "            all_landmarks.append(landmarks) #will contains 2 landmarks for 2 hands\n",
    "            \n",
    "\n",
    "        # recognize gesture for each hand\n",
    "        for i, landmarks in enumerate(all_landmarks):\n",
    "            prediction = model.predict([landmarks]) #return array of 10 landmarks output (2.0691623e-18 1.9585415e-27 .....)\n",
    "            classID = np.argmax(prediction)  #return index of the max value\n",
    "            className = classNames[classID]\n",
    "\n",
    "\n",
    "            # Display the gesture prediction for each hand as needed\n",
    "            hand_text_position = (10, 50 + i * 50)  # Adjust Y position for each hand\n",
    "            cv2.putText(frame, f\"Hand {i + 1}: {className}\", hand_text_position, cv2.FONT_HERSHEY_SIMPLEX, 1.3, (0, 0, 255), 3, cv2.LINE_AA)\n",
    "\n",
    "    # Show the final output\n",
    "    cv2.imshow(\"Output\", frame) \n",
    "\n",
    "    if cv2.waitKey(1) == ord('q'):\n",
    "        break\n",
    "\n",
    "# release the webcam and destroy all active windows\n",
    "cap.release()\n",
    "cv2.destroyAllWindows()"
   ]
  },
  {
   "cell_type": "code",
   "execution_count": null,
   "id": "6b9c36bd",
   "metadata": {},
   "outputs": [],
   "source": []
  }
 ],
 "metadata": {
  "kernelspec": {
   "display_name": "Python 3 (ipykernel)",
   "language": "python",
   "name": "python3"
  },
  "language_info": {
   "codemirror_mode": {
    "name": "ipython",
    "version": 3
   },
   "file_extension": ".py",
   "mimetype": "text/x-python",
   "name": "python",
   "nbconvert_exporter": "python",
   "pygments_lexer": "ipython3",
   "version": "3.11.5"
  }
 },
 "nbformat": 4,
 "nbformat_minor": 5
}
